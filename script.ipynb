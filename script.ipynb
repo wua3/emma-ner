{
 "cells": [
  {
   "cell_type": "code",
   "execution_count": 134,
   "metadata": {},
   "outputs": [],
   "source": [
    "# setup\n",
    "\n",
    "import spacy\n",
    "from spacy import displacy\n",
    "\n",
    "from collections import Counter\n",
    "\n",
    "import pandas as pd\n",
    "pd.options.display.max_rows = 600\n",
    "pd.options.display.max_colwidth = 400\n",
    "\n",
    "import en_core_web_sm\n",
    "nlp = en_core_web_sm.load()"
   ]
  },
  {
   "cell_type": "code",
   "execution_count": 135,
   "metadata": {},
   "outputs": [
    {
     "name": "stdout",
     "output_type": "stream",
     "text": [
      "Emma Woodhouse, handsome, clever, and rich, with a comfortable home and happy disposition, seemed to\n"
     ]
    }
   ],
   "source": [
    "# get emma as long string\n",
    "\n",
    "with open('emma.txt', 'r', encoding=\"utf8\") as txt:\n",
    "  emma = [line.strip() for line in txt.readlines()]\n",
    "  \n",
    "for line in emma:\n",
    "  if 'VOL' in line:\n",
    "    emma.remove(line)\n",
    "  if 'CHAPTER' in line:\n",
    "    emma.remove(line)\n",
    "  if len(line) < 1:\n",
    "    emma.remove(line)\n",
    "\n",
    "text = ' '.join(emma)\n",
    "\n",
    "print(text[:100])"
   ]
  },
  {
   "cell_type": "code",
   "execution_count": 137,
   "metadata": {},
   "outputs": [],
   "source": [
    "import math\n",
    "number_of_chunks = 80\n",
    "\n",
    "chunk_size = math.ceil(len(text) / number_of_chunks)\n",
    "\n",
    "text_chunks = []\n",
    "\n",
    "for number in range(0, len(text), chunk_size):\n",
    "    text_chunk = text[number:number+chunk_size]\n",
    "    text_chunks.append(text_chunk)"
   ]
  },
  {
   "cell_type": "code",
   "execution_count": 138,
   "metadata": {},
   "outputs": [],
   "source": [
    "chunked_documents = list(nlp.pipe(text_chunks))"
   ]
  },
  {
   "cell_type": "code",
   "execution_count": 184,
   "metadata": {},
   "outputs": [
    {
     "data": {
      "text/html": [
       "<div>\n",
       "<style scoped>\n",
       "    .dataframe tbody tr th:only-of-type {\n",
       "        vertical-align: middle;\n",
       "    }\n",
       "\n",
       "    .dataframe tbody tr th {\n",
       "        vertical-align: top;\n",
       "    }\n",
       "\n",
       "    .dataframe thead th {\n",
       "        text-align: right;\n",
       "    }\n",
       "</style>\n",
       "<table border=\"1\" class=\"dataframe\">\n",
       "  <thead>\n",
       "    <tr style=\"text-align: right;\">\n",
       "      <th></th>\n",
       "      <th>character</th>\n",
       "      <th>count</th>\n",
       "    </tr>\n",
       "  </thead>\n",
       "  <tbody>\n",
       "    <tr>\n",
       "      <th>0</th>\n",
       "      <td>Emma</td>\n",
       "      <td>708</td>\n",
       "    </tr>\n",
       "    <tr>\n",
       "      <th>1</th>\n",
       "      <td>Weston</td>\n",
       "      <td>408</td>\n",
       "    </tr>\n",
       "    <tr>\n",
       "      <th>2</th>\n",
       "      <td>Elton</td>\n",
       "      <td>371</td>\n",
       "    </tr>\n",
       "    <tr>\n",
       "      <th>3</th>\n",
       "      <td>Knightley</td>\n",
       "      <td>279</td>\n",
       "    </tr>\n",
       "    <tr>\n",
       "      <th>4</th>\n",
       "      <td>Jane</td>\n",
       "      <td>180</td>\n",
       "    </tr>\n",
       "    <tr>\n",
       "      <th>5</th>\n",
       "      <td>Harriet</td>\n",
       "      <td>136</td>\n",
       "    </tr>\n",
       "    <tr>\n",
       "      <th>6</th>\n",
       "      <td>Woodhouse</td>\n",
       "      <td>131</td>\n",
       "    </tr>\n",
       "    <tr>\n",
       "      <th>7</th>\n",
       "      <td>Frank Churchill</td>\n",
       "      <td>129</td>\n",
       "    </tr>\n",
       "    <tr>\n",
       "      <th>8</th>\n",
       "      <td>Bates</td>\n",
       "      <td>125</td>\n",
       "    </tr>\n",
       "    <tr>\n",
       "      <th>9</th>\n",
       "      <td>Fairfax</td>\n",
       "      <td>107</td>\n",
       "    </tr>\n",
       "    <tr>\n",
       "      <th>10</th>\n",
       "      <td>Jane Fairfax</td>\n",
       "      <td>85</td>\n",
       "    </tr>\n",
       "    <tr>\n",
       "      <th>11</th>\n",
       "      <td>Churchill</td>\n",
       "      <td>69</td>\n",
       "    </tr>\n",
       "    <tr>\n",
       "      <th>12</th>\n",
       "      <td>Isabella</td>\n",
       "      <td>63</td>\n",
       "    </tr>\n",
       "    <tr>\n",
       "      <th>13</th>\n",
       "      <td>Goddard</td>\n",
       "      <td>58</td>\n",
       "    </tr>\n",
       "    <tr>\n",
       "      <th>14</th>\n",
       "      <td>Perry</td>\n",
       "      <td>56</td>\n",
       "    </tr>\n",
       "  </tbody>\n",
       "</table>\n",
       "</div>"
      ],
      "text/plain": [
       "          character  count\n",
       "0              Emma    708\n",
       "1            Weston    408\n",
       "2             Elton    371\n",
       "3         Knightley    279\n",
       "4              Jane    180\n",
       "5           Harriet    136\n",
       "6         Woodhouse    131\n",
       "7   Frank Churchill    129\n",
       "8             Bates    125\n",
       "9           Fairfax    107\n",
       "10     Jane Fairfax     85\n",
       "11        Churchill     69\n",
       "12         Isabella     63\n",
       "13          Goddard     58\n",
       "14            Perry     56"
      ]
     },
     "execution_count": 184,
     "metadata": {},
     "output_type": "execute_result"
    }
   ],
   "source": [
    "people = []\n",
    "\n",
    "for document in chunked_documents:\n",
    "    for named_entity in document.ents:\n",
    "        if named_entity.label_ == \"PERSON\":\n",
    "            people.append(named_entity.text)\n",
    "\n",
    "people_tally = Counter(people)\n",
    "\n",
    "df = pd.DataFrame(people_tally.most_common(), columns=['character', 'count'])\n",
    "\n",
    "df.sort_values(['count'], ascending=False)\n",
    "\n",
    "df.iloc[:15]"
   ]
  },
  {
   "cell_type": "code",
   "execution_count": 185,
   "metadata": {},
   "outputs": [
    {
     "data": {
      "text/html": [
       "<style type=\"text/css\">\n",
       "</style>\n",
       "<table id=\"T_86b51\">\n",
       "  <thead>\n",
       "    <tr>\n",
       "      <th id=\"T_86b51_level0_col0\" class=\"col_heading level0 col0\" >character</th>\n",
       "      <th id=\"T_86b51_level0_col1\" class=\"col_heading level0 col1\" >count</th>\n",
       "    </tr>\n",
       "  </thead>\n",
       "  <tbody>\n",
       "    <tr>\n",
       "      <td id=\"T_86b51_row0_col0\" class=\"data row0 col0\" >Emma</td>\n",
       "      <td id=\"T_86b51_row0_col1\" class=\"data row0 col1\" >717</td>\n",
       "    </tr>\n",
       "    <tr>\n",
       "      <td id=\"T_86b51_row1_col0\" class=\"data row1 col0\" >Weston</td>\n",
       "      <td id=\"T_86b51_row1_col1\" class=\"data row1 col1\" >408</td>\n",
       "    </tr>\n",
       "    <tr>\n",
       "      <td id=\"T_86b51_row2_col0\" class=\"data row2 col0\" >Elton</td>\n",
       "      <td id=\"T_86b51_row2_col1\" class=\"data row2 col1\" >371</td>\n",
       "    </tr>\n",
       "    <tr>\n",
       "      <td id=\"T_86b51_row3_col0\" class=\"data row3 col0\" >Knightley</td>\n",
       "      <td id=\"T_86b51_row3_col1\" class=\"data row3 col1\" >279</td>\n",
       "    </tr>\n",
       "    <tr>\n",
       "      <td id=\"T_86b51_row4_col0\" class=\"data row4 col0\" >Jane</td>\n",
       "      <td id=\"T_86b51_row4_col1\" class=\"data row4 col1\" >279</td>\n",
       "    </tr>\n",
       "    <tr>\n",
       "      <td id=\"T_86b51_row5_col0\" class=\"data row5 col0\" >Harriet</td>\n",
       "      <td id=\"T_86b51_row5_col1\" class=\"data row5 col1\" >193</td>\n",
       "    </tr>\n",
       "    <tr>\n",
       "      <td id=\"T_86b51_row6_col0\" class=\"data row6 col0\" >Frank</td>\n",
       "      <td id=\"T_86b51_row6_col1\" class=\"data row6 col1\" >182</td>\n",
       "    </tr>\n",
       "    <tr>\n",
       "      <td id=\"T_86b51_row7_col0\" class=\"data row7 col0\" >Woodhouse</td>\n",
       "      <td id=\"T_86b51_row7_col1\" class=\"data row7 col1\" >131</td>\n",
       "    </tr>\n",
       "    <tr>\n",
       "      <td id=\"T_86b51_row8_col0\" class=\"data row8 col0\" >Bates</td>\n",
       "      <td id=\"T_86b51_row8_col1\" class=\"data row8 col1\" >125</td>\n",
       "    </tr>\n",
       "    <tr>\n",
       "      <td id=\"T_86b51_row9_col0\" class=\"data row9 col0\" >Fairfax</td>\n",
       "      <td id=\"T_86b51_row9_col1\" class=\"data row9 col1\" >107</td>\n",
       "    </tr>\n",
       "    <tr>\n",
       "      <td id=\"T_86b51_row10_col0\" class=\"data row10 col0\" >Churchill</td>\n",
       "      <td id=\"T_86b51_row10_col1\" class=\"data row10 col1\" >69</td>\n",
       "    </tr>\n",
       "    <tr>\n",
       "      <td id=\"T_86b51_row11_col0\" class=\"data row11 col0\" >Isabella</td>\n",
       "      <td id=\"T_86b51_row11_col1\" class=\"data row11 col1\" >63</td>\n",
       "    </tr>\n",
       "    <tr>\n",
       "      <td id=\"T_86b51_row12_col0\" class=\"data row12 col0\" >Goddard</td>\n",
       "      <td id=\"T_86b51_row12_col1\" class=\"data row12 col1\" >58</td>\n",
       "    </tr>\n",
       "    <tr>\n",
       "      <td id=\"T_86b51_row13_col0\" class=\"data row13 col0\" >Perry</td>\n",
       "      <td id=\"T_86b51_row13_col1\" class=\"data row13 col1\" >56</td>\n",
       "    </tr>\n",
       "    <tr>\n",
       "      <td id=\"T_86b51_row14_col0\" class=\"data row14 col0\" >Cole</td>\n",
       "      <td id=\"T_86b51_row14_col1\" class=\"data row14 col1\" >54</td>\n",
       "    </tr>\n",
       "  </tbody>\n",
       "</table>\n"
      ],
      "text/plain": [
       "<pandas.io.formats.style.Styler at 0x27613c3a730>"
      ]
     },
     "execution_count": 185,
     "metadata": {},
     "output_type": "execute_result"
    }
   ],
   "source": [
    "def merge_characters(main, second):\n",
    "    df.loc[df.character == main, 'count'] = df[df['character']==main]['count'].values[0] + df[df['character']==second]['count'].values[0]\n",
    "    df.drop(df.loc[df['character']==second].index, inplace=True)\n",
    "\n",
    "# merge a few common character names\n",
    "merge_characters(\"Emma\", \"Miss Woodhouse\")\n",
    "merge_characters(\"Jane\", \"Jane Fairfax\")\n",
    "merge_characters(\"Jane\", \"Jane Fairfax's\")\n",
    "merge_characters(\"Harriet\", \"Miss Smith\")\n",
    "merge_characters(\"Harriet\", \"Harriet Smith\")\n",
    "merge_characters(\"Frank\", \"Frank Churchill\")\n",
    "\n",
    "df = df.sort_values(['count'], ascending=False).iloc[:15]\n",
    "df.style.hide(axis='index')"
   ]
  },
  {
   "cell_type": "code",
   "execution_count": 198,
   "metadata": {},
   "outputs": [
    {
     "data": {
      "text/plain": [
       "<AxesSubplot:title={'center':\"Most referenced characters in Jane Austen's Emma\"}, ylabel='character'>"
      ]
     },
     "execution_count": 198,
     "metadata": {},
     "output_type": "execute_result"
    },
    {
     "data": {
      "image/png": "[encoded data removed]",
      "text/plain": [
       "<Figure size 792x432 with 1 Axes>"
      ]
     },
     "metadata": {
      "needs_background": "light"
     },
     "output_type": "display_data"
    }
   ],
   "source": [
    "df = df.sort_values(['count'], ascending=True)\n",
    "df.plot(kind='barh', x='character', title=\"Most referenced characters in Jane Austen's Emma\", figsize=(11,6))"
   ]
  }
 ],
 "metadata": {
  "interpreter": {
   "hash": "10149880f5fc0cf9886e3901650b7bda8c2f17447931baa6b78efa5205703509"
  },
  "kernelspec": {
   "display_name": "Python 3.9.1 64-bit",
   "language": "python",
   "name": "python3"
  },
  "language_info": {
   "codemirror_mode": {
    "name": "ipython",
    "version": 3
   },
   "file_extension": ".py",
   "mimetype": "text/x-python",
   "name": "python",
   "nbconvert_exporter": "python",
   "pygments_lexer": "ipython3",
   "version": "3.9.1"
  },
  "orig_nbformat": 4
 },
 "nbformat": 4,
 "nbformat_minor": 2
}
